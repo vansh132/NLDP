{
 "cells": [
  {
   "cell_type": "code",
   "execution_count": 9,
   "metadata": {},
   "outputs": [],
   "source": [
    "import numpy as np\n",
    "import pandas as pd\n",
    "import matplotlib.pyplot as plt\n",
    "from keras.datasets import mnist\n",
    "from keras.utils import to_categorical\n",
    "import warnings\n",
    "warnings.filterwarnings(\"ignore\")"
   ]
  },
  {
   "cell_type": "code",
   "execution_count": 3,
   "metadata": {},
   "outputs": [],
   "source": [
    "# ReLU activation function\n",
    "def relu(x):\n",
    "    return np.maximum(0, x)\n",
    "\n",
    "# Derivative of ReLU function\n",
    "def relu_derivative(x):\n",
    "    return np.where(x > 0, 1, 0)\n",
    "\n",
    "# Softmax activation function\n",
    "def softmax(x):\n",
    "    exps = np.exp(x - np.max(x, axis=1, keepdims=True))  # Stability improvement\n",
    "    return exps / np.sum(exps, axis=1, keepdims=True)\n",
    "\n",
    "# Categorical Cross-Entropy Loss function\n",
    "def categorical_crossentropy(predictions, labels):\n",
    "    return -np.mean(np.sum(labels * np.log(predictions + 1e-8), axis=1))\n",
    "\n",
    "# Accuracy function\n",
    "def accuracy(y_true, y_pred):\n",
    "    correct = np.argmax(y_true, axis=1) == np.argmax(y_pred, axis=1)\n",
    "    return np.mean(correct)"
   ]
  },
  {
   "cell_type": "code",
   "execution_count": 4,
   "metadata": {},
   "outputs": [],
   "source": [
    "# Load and preprocess the MNIST dataset\n",
    "def load_mnist():\n",
    "    (X_train, y_train), (X_test, y_test) = mnist.load_data()\n",
    "    \n",
    "    # Flatten images into 784-dimensional vectors\n",
    "    X_train = X_train.reshape(X_train.shape[0], -1) / 255.0  # Normalize to [0, 1]\n",
    "    X_test = X_test.reshape(X_test.shape[0], -1) / 255.0\n",
    "\n",
    "    # One-hot encode the labels\n",
    "    y_train = to_categorical(y_train, 10)\n",
    "    y_test = to_categorical(y_test, 10)\n",
    "    \n",
    "    return X_train, y_train, X_test, y_test"
   ]
  },
  {
   "cell_type": "code",
   "execution_count": 5,
   "metadata": {},
   "outputs": [],
   "source": [
    "# Initialize parameters\n",
    "def initialize_weights(input_size, hidden_size, output_size):\n",
    "    W1 = np.random.randn(input_size, hidden_size) * 0.01  # Weights for the hidden layer\n",
    "    W2 = np.random.randn(hidden_size, output_size) * 0.01  # Weights for the output layer\n",
    "    return W1, W2"
   ]
  },
  {
   "cell_type": "code",
   "execution_count": 6,
   "metadata": {},
   "outputs": [],
   "source": [
    "# Main training function\n",
    "def train_neural_network(X_train, y_train, hidden_size=128, output_size=10, learning_rate=0.01, iterations=10000):\n",
    "    input_size = X_train.shape[1]  # 784 input neurons (28x28 pixels)\n",
    "    N = X_train.shape[0]  # Number of training examples\n",
    "    \n",
    "    # Initialize weights\n",
    "    W1, W2 = initialize_weights(input_size, hidden_size, output_size)\n",
    "    \n",
    "    # DataFrame to store loss and accuracy\n",
    "    results = pd.DataFrame(columns=[\"loss\", \"accuracy\"])\n",
    "    \n",
    "    for itr in range(iterations):\n",
    "        # Feedforward propagation\n",
    "        Z1 = np.dot(X_train, W1)  # First layer pre-activation\n",
    "        A1 = relu(Z1)  # First layer activation (ReLU)\n",
    "        \n",
    "        Z2 = np.dot(A1, W2)  # Second layer pre-activation (output)\n",
    "        A2 = softmax(Z2)  # Second layer activation (output predictions using softmax)\n",
    "\n",
    "        # Calculate loss (Categorical Cross-Entropy)\n",
    "        loss = categorical_crossentropy(A2, y_train)\n",
    "        acc = accuracy(y_train, A2)\n",
    "        \n",
    "        # Store loss and accuracy for each iteration\n",
    "        new_row = pd.DataFrame({\"loss\": [loss], \"accuracy\": [acc]})\n",
    "        results = pd.concat([results, new_row], ignore_index=True)\n",
    "\n",
    "        # Backpropagation\n",
    "        # Gradient for softmax output layer\n",
    "        E1 = A2 - y_train  # Error at output layer\n",
    "        dW2 = np.dot(A1.T, E1) / N  # Gradient for W2\n",
    "        \n",
    "        # Error propagated to hidden layer\n",
    "        E2 = np.dot(E1, W2.T)  # Backpropagated error\n",
    "        dZ1 = E2 * relu_derivative(Z1)  # Derivative of error w.r.t. Z1 (for ReLU)\n",
    "        dW1 = np.dot(X_train.T, dZ1) / N  # Gradient for W1\n",
    "\n",
    "        # Update weights\n",
    "        W2 = W2 - learning_rate * dW2  # Update weights for W2\n",
    "        W1 = W1 - learning_rate * dW1  # Update weights for W1\n",
    "\n",
    "    return results, W1, W2"
   ]
  },
  {
   "cell_type": "code",
   "execution_count": 7,
   "metadata": {},
   "outputs": [],
   "source": [
    "# Load the dataset\n",
    "X_train, y_train, X_test, y_test = load_mnist()"
   ]
  },
  {
   "cell_type": "code",
   "execution_count": 10,
   "metadata": {},
   "outputs": [],
   "source": [
    "# Train the neural network\n",
    "results, W1, W2 = train_neural_network(X_train, y_train)"
   ]
  },
  {
   "cell_type": "code",
   "execution_count": null,
   "metadata": {},
   "outputs": [],
   "source": [
    "# After training, print final results\n",
    "print(\"Final loss:\", results['loss'].iloc[-1])\n",
    "print(\"Final accuracy:\", results['accuracy'].iloc[-1])"
   ]
  },
  {
   "cell_type": "code",
   "execution_count": null,
   "metadata": {},
   "outputs": [],
   "source": [
    "# Plot Loss (Categorical Cross-Entropy)\n",
    "results.loss.plot(title=\"Categorical Cross-Entropy Loss\")\n",
    "plt.xlabel('Iterations')\n",
    "plt.ylabel('Loss')\n",
    "plt.show()\n",
    "\n",
    "# Plot Accuracy\n",
    "results.accuracy.plot(title=\"Accuracy\")\n",
    "plt.xlabel('Iterations')\n",
    "plt.ylabel('Accuracy')\n",
    "plt.show()"
   ]
  }
 ],
 "metadata": {
  "kernelspec": {
   "display_name": "Python 3",
   "language": "python",
   "name": "python3"
  },
  "language_info": {
   "codemirror_mode": {
    "name": "ipython",
    "version": 3
   },
   "file_extension": ".py",
   "mimetype": "text/x-python",
   "name": "python",
   "nbconvert_exporter": "python",
   "pygments_lexer": "ipython3",
   "version": "3.11.6"
  }
 },
 "nbformat": 4,
 "nbformat_minor": 2
}
